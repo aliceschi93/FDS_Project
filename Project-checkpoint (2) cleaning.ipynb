{
 "cells": [
  {
   "cell_type": "code",
   "execution_count": 1,
   "metadata": {},
   "outputs": [],
   "source": [
    "import csv\n",
    "import pandas as pd\n",
    "import operator\n",
    "import xgboost\n",
    "from xgboost import XGBRegressor # you have to install it first!\n",
    "import sklearn\n",
    "from sklearn.compose import ColumnTransformer\n",
    "from sklearn.pipeline import Pipeline\n",
    "from sklearn.preprocessing import Imputer, StandardScaler, OneHotEncoder\n",
    "from sklearn.impute import SimpleImputer\n",
    "from sklearn.linear_model import Lasso\n",
    "from sklearn.metrics import mean_squared_error\n",
    "from tqdm import tqdm\n",
    "from sklearn.model_selection import cross_val_score\n",
    "import matplotlib.pyplot as plt  # Matlab-style plotting\n",
    "import seaborn as sns\n",
    "import numpy as np\n",
    "from scipy import stats\n",
    "from scipy.stats import norm, skew \n",
    "color = sns.color_palette()\n",
    "sns.set_style('darkgrid')"
   ]
  },
  {
   "cell_type": "code",
   "execution_count": 2,
   "metadata": {},
   "outputs": [
    {
     "data": {
      "text/html": [
       "<div>\n",
       "<style scoped>\n",
       "    .dataframe tbody tr th:only-of-type {\n",
       "        vertical-align: middle;\n",
       "    }\n",
       "\n",
       "    .dataframe tbody tr th {\n",
       "        vertical-align: top;\n",
       "    }\n",
       "\n",
       "    .dataframe thead th {\n",
       "        text-align: right;\n",
       "    }\n",
       "</style>\n",
       "<table border=\"1\" class=\"dataframe\">\n",
       "  <thead>\n",
       "    <tr style=\"text-align: right;\">\n",
       "      <th></th>\n",
       "      <th>Id</th>\n",
       "      <th>SalePrice</th>\n",
       "    </tr>\n",
       "  </thead>\n",
       "  <tbody>\n",
       "    <tr>\n",
       "      <th>0</th>\n",
       "      <td>1461</td>\n",
       "      <td>169277.052498</td>\n",
       "    </tr>\n",
       "    <tr>\n",
       "      <th>1</th>\n",
       "      <td>1462</td>\n",
       "      <td>187758.393989</td>\n",
       "    </tr>\n",
       "    <tr>\n",
       "      <th>2</th>\n",
       "      <td>1463</td>\n",
       "      <td>183583.683570</td>\n",
       "    </tr>\n",
       "    <tr>\n",
       "      <th>3</th>\n",
       "      <td>1464</td>\n",
       "      <td>179317.477511</td>\n",
       "    </tr>\n",
       "    <tr>\n",
       "      <th>4</th>\n",
       "      <td>1465</td>\n",
       "      <td>150730.079977</td>\n",
       "    </tr>\n",
       "  </tbody>\n",
       "</table>\n",
       "</div>"
      ],
      "text/plain": [
       "     Id      SalePrice\n",
       "0  1461  169277.052498\n",
       "1  1462  187758.393989\n",
       "2  1463  183583.683570\n",
       "3  1464  179317.477511\n",
       "4  1465  150730.079977"
      ]
     },
     "execution_count": 2,
     "metadata": {},
     "output_type": "execute_result"
    }
   ],
   "source": [
    "sample = pd.read_csv(r'all\\sample_submission.csv', sep = ',')\n",
    "sample.head(5)"
   ]
  },
  {
   "cell_type": "markdown",
   "metadata": {},
   "source": [
    "# Test file"
   ]
  },
  {
   "cell_type": "code",
   "execution_count": 3,
   "metadata": {
    "scrolled": false
   },
   "outputs": [
    {
     "data": {
      "text/html": [
       "<div>\n",
       "<style scoped>\n",
       "    .dataframe tbody tr th:only-of-type {\n",
       "        vertical-align: middle;\n",
       "    }\n",
       "\n",
       "    .dataframe tbody tr th {\n",
       "        vertical-align: top;\n",
       "    }\n",
       "\n",
       "    .dataframe thead th {\n",
       "        text-align: right;\n",
       "    }\n",
       "</style>\n",
       "<table border=\"1\" class=\"dataframe\">\n",
       "  <thead>\n",
       "    <tr style=\"text-align: right;\">\n",
       "      <th></th>\n",
       "      <th>Id</th>\n",
       "      <th>MSSubClass</th>\n",
       "      <th>MSZoning</th>\n",
       "      <th>LotFrontage</th>\n",
       "      <th>LotArea</th>\n",
       "      <th>Street</th>\n",
       "      <th>Alley</th>\n",
       "      <th>LotShape</th>\n",
       "      <th>LandContour</th>\n",
       "      <th>Utilities</th>\n",
       "      <th>...</th>\n",
       "      <th>ScreenPorch</th>\n",
       "      <th>PoolArea</th>\n",
       "      <th>PoolQC</th>\n",
       "      <th>Fence</th>\n",
       "      <th>MiscFeature</th>\n",
       "      <th>MiscVal</th>\n",
       "      <th>MoSold</th>\n",
       "      <th>YrSold</th>\n",
       "      <th>SaleType</th>\n",
       "      <th>SaleCondition</th>\n",
       "    </tr>\n",
       "  </thead>\n",
       "  <tbody>\n",
       "    <tr>\n",
       "      <th>0</th>\n",
       "      <td>1461</td>\n",
       "      <td>20</td>\n",
       "      <td>RH</td>\n",
       "      <td>80.0</td>\n",
       "      <td>11622</td>\n",
       "      <td>Pave</td>\n",
       "      <td>NaN</td>\n",
       "      <td>Reg</td>\n",
       "      <td>Lvl</td>\n",
       "      <td>AllPub</td>\n",
       "      <td>...</td>\n",
       "      <td>120</td>\n",
       "      <td>0</td>\n",
       "      <td>NaN</td>\n",
       "      <td>MnPrv</td>\n",
       "      <td>NaN</td>\n",
       "      <td>0</td>\n",
       "      <td>6</td>\n",
       "      <td>2010</td>\n",
       "      <td>WD</td>\n",
       "      <td>Normal</td>\n",
       "    </tr>\n",
       "    <tr>\n",
       "      <th>1</th>\n",
       "      <td>1462</td>\n",
       "      <td>20</td>\n",
       "      <td>RL</td>\n",
       "      <td>81.0</td>\n",
       "      <td>14267</td>\n",
       "      <td>Pave</td>\n",
       "      <td>NaN</td>\n",
       "      <td>IR1</td>\n",
       "      <td>Lvl</td>\n",
       "      <td>AllPub</td>\n",
       "      <td>...</td>\n",
       "      <td>0</td>\n",
       "      <td>0</td>\n",
       "      <td>NaN</td>\n",
       "      <td>NaN</td>\n",
       "      <td>Gar2</td>\n",
       "      <td>12500</td>\n",
       "      <td>6</td>\n",
       "      <td>2010</td>\n",
       "      <td>WD</td>\n",
       "      <td>Normal</td>\n",
       "    </tr>\n",
       "    <tr>\n",
       "      <th>2</th>\n",
       "      <td>1463</td>\n",
       "      <td>60</td>\n",
       "      <td>RL</td>\n",
       "      <td>74.0</td>\n",
       "      <td>13830</td>\n",
       "      <td>Pave</td>\n",
       "      <td>NaN</td>\n",
       "      <td>IR1</td>\n",
       "      <td>Lvl</td>\n",
       "      <td>AllPub</td>\n",
       "      <td>...</td>\n",
       "      <td>0</td>\n",
       "      <td>0</td>\n",
       "      <td>NaN</td>\n",
       "      <td>MnPrv</td>\n",
       "      <td>NaN</td>\n",
       "      <td>0</td>\n",
       "      <td>3</td>\n",
       "      <td>2010</td>\n",
       "      <td>WD</td>\n",
       "      <td>Normal</td>\n",
       "    </tr>\n",
       "    <tr>\n",
       "      <th>3</th>\n",
       "      <td>1464</td>\n",
       "      <td>60</td>\n",
       "      <td>RL</td>\n",
       "      <td>78.0</td>\n",
       "      <td>9978</td>\n",
       "      <td>Pave</td>\n",
       "      <td>NaN</td>\n",
       "      <td>IR1</td>\n",
       "      <td>Lvl</td>\n",
       "      <td>AllPub</td>\n",
       "      <td>...</td>\n",
       "      <td>0</td>\n",
       "      <td>0</td>\n",
       "      <td>NaN</td>\n",
       "      <td>NaN</td>\n",
       "      <td>NaN</td>\n",
       "      <td>0</td>\n",
       "      <td>6</td>\n",
       "      <td>2010</td>\n",
       "      <td>WD</td>\n",
       "      <td>Normal</td>\n",
       "    </tr>\n",
       "    <tr>\n",
       "      <th>4</th>\n",
       "      <td>1465</td>\n",
       "      <td>120</td>\n",
       "      <td>RL</td>\n",
       "      <td>43.0</td>\n",
       "      <td>5005</td>\n",
       "      <td>Pave</td>\n",
       "      <td>NaN</td>\n",
       "      <td>IR1</td>\n",
       "      <td>HLS</td>\n",
       "      <td>AllPub</td>\n",
       "      <td>...</td>\n",
       "      <td>144</td>\n",
       "      <td>0</td>\n",
       "      <td>NaN</td>\n",
       "      <td>NaN</td>\n",
       "      <td>NaN</td>\n",
       "      <td>0</td>\n",
       "      <td>1</td>\n",
       "      <td>2010</td>\n",
       "      <td>WD</td>\n",
       "      <td>Normal</td>\n",
       "    </tr>\n",
       "  </tbody>\n",
       "</table>\n",
       "<p>5 rows × 80 columns</p>\n",
       "</div>"
      ],
      "text/plain": [
       "     Id  MSSubClass MSZoning  LotFrontage  LotArea Street Alley LotShape  \\\n",
       "0  1461          20       RH         80.0    11622   Pave   NaN      Reg   \n",
       "1  1462          20       RL         81.0    14267   Pave   NaN      IR1   \n",
       "2  1463          60       RL         74.0    13830   Pave   NaN      IR1   \n",
       "3  1464          60       RL         78.0     9978   Pave   NaN      IR1   \n",
       "4  1465         120       RL         43.0     5005   Pave   NaN      IR1   \n",
       "\n",
       "  LandContour Utilities      ...       ScreenPorch PoolArea PoolQC  Fence  \\\n",
       "0         Lvl    AllPub      ...               120        0    NaN  MnPrv   \n",
       "1         Lvl    AllPub      ...                 0        0    NaN    NaN   \n",
       "2         Lvl    AllPub      ...                 0        0    NaN  MnPrv   \n",
       "3         Lvl    AllPub      ...                 0        0    NaN    NaN   \n",
       "4         HLS    AllPub      ...               144        0    NaN    NaN   \n",
       "\n",
       "  MiscFeature MiscVal MoSold  YrSold  SaleType  SaleCondition  \n",
       "0         NaN       0      6    2010        WD         Normal  \n",
       "1        Gar2   12500      6    2010        WD         Normal  \n",
       "2         NaN       0      3    2010        WD         Normal  \n",
       "3         NaN       0      6    2010        WD         Normal  \n",
       "4         NaN       0      1    2010        WD         Normal  \n",
       "\n",
       "[5 rows x 80 columns]"
      ]
     },
     "execution_count": 3,
     "metadata": {},
     "output_type": "execute_result"
    }
   ],
   "source": [
    "test = pd.read_csv(r'all\\test.csv', sep = ',')\n",
    "test.head(5)"
   ]
  },
  {
   "cell_type": "code",
   "execution_count": 4,
   "metadata": {},
   "outputs": [],
   "source": [
    "# set of columns with at least one NaN value\n",
    "nan_dict = {}\n",
    "for col in test:\n",
    "    nan_count = test[test[col].isna()]\n",
    "    if len(nan_count) > 0:\n",
    "        nan_dict[col] = len(nan_count)\n",
    "        \n",
    "sorted_nan = sorted(nan_dict.items(), key = operator.itemgetter(1))\n",
    "sorted_nan.reverse()"
   ]
  },
  {
   "cell_type": "code",
   "execution_count": 5,
   "metadata": {},
   "outputs": [],
   "source": [
    "# creating a set of columns names (with NaN values in test)\n",
    "test_li = set()\n",
    "for i in range(len(sorted_nan)):\n",
    "    test_li.add(sorted_nan[i][0])"
   ]
  },
  {
   "cell_type": "code",
   "execution_count": 6,
   "metadata": {},
   "outputs": [
    {
     "data": {
      "text/plain": [
       "[('PoolQC', 1456),\n",
       " ('MiscFeature', 1408),\n",
       " ('Alley', 1352),\n",
       " ('Fence', 1169),\n",
       " ('FireplaceQu', 730),\n",
       " ('LotFrontage', 227),\n",
       " ('GarageCond', 78),\n",
       " ('GarageQual', 78),\n",
       " ('GarageFinish', 78),\n",
       " ('GarageYrBlt', 78),\n",
       " ('GarageType', 76),\n",
       " ('BsmtCond', 45),\n",
       " ('BsmtExposure', 44),\n",
       " ('BsmtQual', 44),\n",
       " ('BsmtFinType2', 42),\n",
       " ('BsmtFinType1', 42),\n",
       " ('MasVnrType', 16),\n",
       " ('MasVnrArea', 15),\n",
       " ('MSZoning', 4),\n",
       " ('Functional', 2),\n",
       " ('BsmtHalfBath', 2),\n",
       " ('BsmtFullBath', 2),\n",
       " ('Utilities', 2),\n",
       " ('SaleType', 1),\n",
       " ('GarageArea', 1),\n",
       " ('GarageCars', 1),\n",
       " ('KitchenQual', 1),\n",
       " ('TotalBsmtSF', 1),\n",
       " ('BsmtUnfSF', 1),\n",
       " ('BsmtFinSF2', 1),\n",
       " ('BsmtFinSF1', 1),\n",
       " ('Exterior2nd', 1),\n",
       " ('Exterior1st', 1)]"
      ]
     },
     "execution_count": 6,
     "metadata": {},
     "output_type": "execute_result"
    }
   ],
   "source": [
    "sorted_nan"
   ]
  },
  {
   "cell_type": "code",
   "execution_count": 7,
   "metadata": {},
   "outputs": [
    {
     "data": {
      "text/plain": [
       "33"
      ]
     },
     "execution_count": 7,
     "metadata": {},
     "output_type": "execute_result"
    }
   ],
   "source": [
    "len(test_li)"
   ]
  },
  {
   "cell_type": "code",
   "execution_count": 8,
   "metadata": {},
   "outputs": [],
   "source": [
    "numerical_feature_nan_to_zero = ['BsmtFullBath','BsmtFinSF1', 'BsmtFinSF2', 'BsmtUnfSF', 'GarageArea', 'GarageCars', 'GarageYrBlt', 'MasVnrArea', 'TotalBsmtSF']\n",
    "string_feature_nan_to_none =['BsmtCond', 'BsmtExposure', 'BsmtFinType1', 'BsmtFinType2', 'BsmtQual','GarageQual', 'GarageCond', 'GarageFinish', 'GarageType', 'MasVnrType']\n",
    "#test['Functional'] = test['Functional'].fillna('Typ')  nella descrizione dice di assumere typical se non specificato\n",
    "\n",
    "# alley la droppiamo\n",
    "\n",
    "# per Exterior1st e 2nd lascio il replace della pipeline perche ci deve stare per forza un exterior covering of the house\n",
    "#test['Fence'] = test['Fence'].fillna('None') DROP\n",
    "#test['FireplaceQu'] = test['FireplaceQu'].fillna('None') DROP\n",
    "\n",
    "# Kitchen quality: ci sta per forza una cucina quindi lascio quello della pipeline\n",
    "\n",
    "#test['LotFrontage'] = test['LotFrontage'].fillna(0)  MEGLIO MEDIAN?\n",
    "\n",
    "\n",
    "# ms zonning lascio la pipeline\n",
    "\n",
    "# pool qc e  misc features la droppiamo\n",
    "#test['SaleType'] = test['SaleType'].fillna('None') MEGLIO MOST FREQUENT\n",
    "# per utilities lascio la pipeline\n",
    "\n",
    "\n"
   ]
  },
  {
   "cell_type": "markdown",
   "metadata": {},
   "source": [
    "**Alley** has 107 null values and the remaining are NaN.  ---> drop ?\n",
    "\n",
    "**MiscFeature** has 3 second garage, 2 other, 46 shed and the remaining 1408 are missing. We can drop it since we don't need these informations. \n",
    "\n",
    "**MiscVal** has 51 different values and the remaining 1408 are missing (*except* miscval = 17000, miscfeature = nan).\n",
    "\n",
    "**PoolArea** has 1453 zeroes and the remaining 6 are different values. \n",
    "\n",
    "**PoolQC** has 2 excellent and 1 good values, the remaining 3 are NaN. The information is not reliable.  ---> drop"
   ]
  },
  {
   "cell_type": "markdown",
   "metadata": {},
   "source": [
    "# Train"
   ]
  },
  {
   "cell_type": "code",
   "execution_count": 9,
   "metadata": {},
   "outputs": [
    {
     "data": {
      "text/html": [
       "<div>\n",
       "<style scoped>\n",
       "    .dataframe tbody tr th:only-of-type {\n",
       "        vertical-align: middle;\n",
       "    }\n",
       "\n",
       "    .dataframe tbody tr th {\n",
       "        vertical-align: top;\n",
       "    }\n",
       "\n",
       "    .dataframe thead th {\n",
       "        text-align: right;\n",
       "    }\n",
       "</style>\n",
       "<table border=\"1\" class=\"dataframe\">\n",
       "  <thead>\n",
       "    <tr style=\"text-align: right;\">\n",
       "      <th></th>\n",
       "      <th>Id</th>\n",
       "      <th>MSSubClass</th>\n",
       "      <th>MSZoning</th>\n",
       "      <th>LotFrontage</th>\n",
       "      <th>LotArea</th>\n",
       "      <th>Street</th>\n",
       "      <th>Alley</th>\n",
       "      <th>LotShape</th>\n",
       "      <th>LandContour</th>\n",
       "      <th>Utilities</th>\n",
       "      <th>...</th>\n",
       "      <th>PoolArea</th>\n",
       "      <th>PoolQC</th>\n",
       "      <th>Fence</th>\n",
       "      <th>MiscFeature</th>\n",
       "      <th>MiscVal</th>\n",
       "      <th>MoSold</th>\n",
       "      <th>YrSold</th>\n",
       "      <th>SaleType</th>\n",
       "      <th>SaleCondition</th>\n",
       "      <th>SalePrice</th>\n",
       "    </tr>\n",
       "  </thead>\n",
       "  <tbody>\n",
       "    <tr>\n",
       "      <th>0</th>\n",
       "      <td>1</td>\n",
       "      <td>60</td>\n",
       "      <td>RL</td>\n",
       "      <td>65.0</td>\n",
       "      <td>8450</td>\n",
       "      <td>Pave</td>\n",
       "      <td>NaN</td>\n",
       "      <td>Reg</td>\n",
       "      <td>Lvl</td>\n",
       "      <td>AllPub</td>\n",
       "      <td>...</td>\n",
       "      <td>0</td>\n",
       "      <td>NaN</td>\n",
       "      <td>NaN</td>\n",
       "      <td>NaN</td>\n",
       "      <td>0</td>\n",
       "      <td>2</td>\n",
       "      <td>2008</td>\n",
       "      <td>WD</td>\n",
       "      <td>Normal</td>\n",
       "      <td>208500</td>\n",
       "    </tr>\n",
       "    <tr>\n",
       "      <th>1</th>\n",
       "      <td>2</td>\n",
       "      <td>20</td>\n",
       "      <td>RL</td>\n",
       "      <td>80.0</td>\n",
       "      <td>9600</td>\n",
       "      <td>Pave</td>\n",
       "      <td>NaN</td>\n",
       "      <td>Reg</td>\n",
       "      <td>Lvl</td>\n",
       "      <td>AllPub</td>\n",
       "      <td>...</td>\n",
       "      <td>0</td>\n",
       "      <td>NaN</td>\n",
       "      <td>NaN</td>\n",
       "      <td>NaN</td>\n",
       "      <td>0</td>\n",
       "      <td>5</td>\n",
       "      <td>2007</td>\n",
       "      <td>WD</td>\n",
       "      <td>Normal</td>\n",
       "      <td>181500</td>\n",
       "    </tr>\n",
       "    <tr>\n",
       "      <th>2</th>\n",
       "      <td>3</td>\n",
       "      <td>60</td>\n",
       "      <td>RL</td>\n",
       "      <td>68.0</td>\n",
       "      <td>11250</td>\n",
       "      <td>Pave</td>\n",
       "      <td>NaN</td>\n",
       "      <td>IR1</td>\n",
       "      <td>Lvl</td>\n",
       "      <td>AllPub</td>\n",
       "      <td>...</td>\n",
       "      <td>0</td>\n",
       "      <td>NaN</td>\n",
       "      <td>NaN</td>\n",
       "      <td>NaN</td>\n",
       "      <td>0</td>\n",
       "      <td>9</td>\n",
       "      <td>2008</td>\n",
       "      <td>WD</td>\n",
       "      <td>Normal</td>\n",
       "      <td>223500</td>\n",
       "    </tr>\n",
       "    <tr>\n",
       "      <th>3</th>\n",
       "      <td>4</td>\n",
       "      <td>70</td>\n",
       "      <td>RL</td>\n",
       "      <td>60.0</td>\n",
       "      <td>9550</td>\n",
       "      <td>Pave</td>\n",
       "      <td>NaN</td>\n",
       "      <td>IR1</td>\n",
       "      <td>Lvl</td>\n",
       "      <td>AllPub</td>\n",
       "      <td>...</td>\n",
       "      <td>0</td>\n",
       "      <td>NaN</td>\n",
       "      <td>NaN</td>\n",
       "      <td>NaN</td>\n",
       "      <td>0</td>\n",
       "      <td>2</td>\n",
       "      <td>2006</td>\n",
       "      <td>WD</td>\n",
       "      <td>Abnorml</td>\n",
       "      <td>140000</td>\n",
       "    </tr>\n",
       "    <tr>\n",
       "      <th>4</th>\n",
       "      <td>5</td>\n",
       "      <td>60</td>\n",
       "      <td>RL</td>\n",
       "      <td>84.0</td>\n",
       "      <td>14260</td>\n",
       "      <td>Pave</td>\n",
       "      <td>NaN</td>\n",
       "      <td>IR1</td>\n",
       "      <td>Lvl</td>\n",
       "      <td>AllPub</td>\n",
       "      <td>...</td>\n",
       "      <td>0</td>\n",
       "      <td>NaN</td>\n",
       "      <td>NaN</td>\n",
       "      <td>NaN</td>\n",
       "      <td>0</td>\n",
       "      <td>12</td>\n",
       "      <td>2008</td>\n",
       "      <td>WD</td>\n",
       "      <td>Normal</td>\n",
       "      <td>250000</td>\n",
       "    </tr>\n",
       "  </tbody>\n",
       "</table>\n",
       "<p>5 rows × 81 columns</p>\n",
       "</div>"
      ],
      "text/plain": [
       "   Id  MSSubClass MSZoning  LotFrontage  LotArea Street Alley LotShape  \\\n",
       "0   1          60       RL         65.0     8450   Pave   NaN      Reg   \n",
       "1   2          20       RL         80.0     9600   Pave   NaN      Reg   \n",
       "2   3          60       RL         68.0    11250   Pave   NaN      IR1   \n",
       "3   4          70       RL         60.0     9550   Pave   NaN      IR1   \n",
       "4   5          60       RL         84.0    14260   Pave   NaN      IR1   \n",
       "\n",
       "  LandContour Utilities    ...     PoolArea PoolQC Fence MiscFeature MiscVal  \\\n",
       "0         Lvl    AllPub    ...            0    NaN   NaN         NaN       0   \n",
       "1         Lvl    AllPub    ...            0    NaN   NaN         NaN       0   \n",
       "2         Lvl    AllPub    ...            0    NaN   NaN         NaN       0   \n",
       "3         Lvl    AllPub    ...            0    NaN   NaN         NaN       0   \n",
       "4         Lvl    AllPub    ...            0    NaN   NaN         NaN       0   \n",
       "\n",
       "  MoSold YrSold  SaleType  SaleCondition  SalePrice  \n",
       "0      2   2008        WD         Normal     208500  \n",
       "1      5   2007        WD         Normal     181500  \n",
       "2      9   2008        WD         Normal     223500  \n",
       "3      2   2006        WD        Abnorml     140000  \n",
       "4     12   2008        WD         Normal     250000  \n",
       "\n",
       "[5 rows x 81 columns]"
      ]
     },
     "execution_count": 9,
     "metadata": {},
     "output_type": "execute_result"
    }
   ],
   "source": [
    "train = pd.read_csv(r'all\\train.csv', sep = ',')\n",
    "train.head(5)"
   ]
  },
  {
   "cell_type": "code",
   "execution_count": 10,
   "metadata": {},
   "outputs": [],
   "source": [
    "# set of columns with at least one NaN value\n",
    "nan_dict_train = {}\n",
    "for col in train:\n",
    "    nan_count_train = train[train[col].isna()]\n",
    "    if len(nan_count_train)>0:\n",
    "        nan_dict_train[col] = len(nan_count_train)\n",
    "        \n",
    "sorted_nan_train = sorted(nan_dict_train.items(), key = operator.itemgetter(1))\n",
    "sorted_nan_train.reverse()"
   ]
  },
  {
   "cell_type": "markdown",
   "metadata": {},
   "source": [
    "## Handling with missing values"
   ]
  },
  {
   "cell_type": "markdown",
   "metadata": {},
   "source": [
    "### An Extension To Imputation"
   ]
  },
  {
   "cell_type": "code",
   "execution_count": 11,
   "metadata": {},
   "outputs": [],
   "source": [
    "#dropped_test = test.drop('Id', axis = 1) VIENE FATTO DOPO"
   ]
  },
  {
   "cell_type": "code",
   "execution_count": 12,
   "metadata": {},
   "outputs": [
    {
     "data": {
      "image/png": "[encoded data removed]",
      "text/plain": [
       "<Figure size 432x288 with 1 Axes>"
      ]
     },
     "metadata": {
      "needs_background": "light"
     },
     "output_type": "display_data"
    }
   ],
   "source": [
    "# there was an outlier in GarageYrBlt\n",
    "fig, ax = plt.subplots()\n",
    "ax.scatter(x = test['GarageYrBlt'], y = test['YearBuilt'])\n",
    "plt.ylabel('YearBuilt', fontsize = 13)\n",
    "plt.xlabel('GarageYrBlt', fontsize = 13)\n",
    "plt.show()"
   ]
  },
  {
   "cell_type": "code",
   "execution_count": 13,
   "metadata": {
    "scrolled": true
   },
   "outputs": [],
   "source": [
    "outlier = test[test['GarageYrBlt'] > 2018]\n",
    "test.loc[test.GarageYrBlt > 2018, 'GarageYrBlt'] = test['YearBuilt']"
   ]
  },
  {
   "cell_type": "code",
   "execution_count": 14,
   "metadata": {},
   "outputs": [],
   "source": [
    "drop_test_col = [tup[0] for tup in sorted_nan[:6]]\n",
    "imp_test_col = [tup[0] for tup in sorted_nan[6:]]"
   ]
  },
  {
   "cell_type": "code",
   "execution_count": 15,
   "metadata": {},
   "outputs": [],
   "source": [
    "# dropping the columns with a higher number of missing values\n",
    "to_drop = ['Id', 'Utilities', 'Condition2']\n",
    "dropped_test = test.drop(drop_test_col, axis = 1)\n",
    "dropped_test = dropped_test.drop(to_drop, axis = 1)\n",
    "dropped_train = train.drop(drop_test_col, axis = 1)\n",
    "dropped_train = dropped_train.drop(to_drop, axis = 1)"
   ]
  },
  {
   "cell_type": "code",
   "execution_count": 16,
   "metadata": {},
   "outputs": [],
   "source": [
    "# distinguishing categorical and numeric features\n",
    "str_feature = [i for i in dropped_test.columns \n",
    "            if isinstance(dropped_test[i][0], str)]\n",
    "num_feature = [i for i \n",
    "               in (set(dropped_test.columns).difference(str_feature))]"
   ]
  },
  {
   "cell_type": "code",
   "execution_count": 17,
   "metadata": {},
   "outputs": [],
   "source": [
    "str_featureSet = set(str_feature)\n",
    "str_featureSet -= set(string_feature_nan_to_none)\n",
    "\n",
    "str_feature = list(str_featureSet)"
   ]
  },
  {
   "cell_type": "code",
   "execution_count": 18,
   "metadata": {},
   "outputs": [],
   "source": [
    "# make copy to avoid changing original data (when Imputing)\n",
    "\n",
    "new_test = dropped_test.copy()\n",
    "new_train = dropped_train.copy()\n",
    "reduced_train = new_train.drop('SalePrice', axis = 1)\n",
    "final_train_y = np.log1p(train[\"SalePrice\"].astype('float'))\n",
    "\n",
    "\n",
    "str_default_transformer = Pipeline(steps = [\n",
    "    ('imputer', SimpleImputer(strategy = 'constant', fill_value = 'None')),\n",
    "    ('onehot', OneHotEncoder(handle_unknown = 'ignore'))])\n",
    "\n",
    "    \n",
    "num_default_transformer = Pipeline(steps = [\n",
    "    ('imputer', SimpleImputer(strategy = 'constant', fill_value = 0)),\n",
    "    ('scaler', StandardScaler())])\n",
    "\n",
    "# creating the preprocessing pipelines for numeric data\n",
    "num_transformer = Pipeline(steps = [\n",
    "    ('imputer', SimpleImputer(strategy = 'median')),\n",
    "    ('scaler', StandardScaler())])\n",
    "\n",
    "# creating the preprocessing pipelines for categorical data\n",
    "str_transformer = Pipeline(steps = [\n",
    "    ('imputer', SimpleImputer(strategy = 'most_frequent')),\n",
    "    ('onehot', OneHotEncoder(handle_unknown = 'ignore'))])\n",
    "\n",
    "preprocessor = ColumnTransformer(\n",
    "    transformers = [('cat_std', str_default_transformer, string_feature_nan_to_none),\n",
    "        ('num_std', num_default_transformer, numerical_feature_nan_to_zero),\n",
    "        ('num', num_transformer, num_feature),\n",
    "        ('cat', str_transformer, str_feature)])"
   ]
  },
  {
   "cell_type": "code",
   "execution_count": 19,
   "metadata": {},
   "outputs": [],
   "source": [
    "coefs = []\n",
    "lambdas = (0.00001, 0.0001, 0.001, 0.01)\n",
    "for lambda_ in lambdas:\n",
    "\n",
    "    clf = Pipeline(steps = [('preprocessor', preprocessor),\n",
    "                          ('classifier',Lasso(alpha=lambda_, max_iter=50000))])\n",
    "    train_fit = clf.fit(reduced_train, final_train_y)\n",
    "    predictions = clf.predict(new_test)\n",
    "    coefs.append(train_fit.steps[1][1].coef_)"
   ]
  },
  {
   "cell_type": "code",
   "execution_count": 20,
   "metadata": {},
   "outputs": [
    {
     "data": {
      "text/plain": [
       "(-0.05, 0.4043039613211006)"
      ]
     },
     "execution_count": 20,
     "metadata": {},
     "output_type": "execute_result"
    },
    {
     "data": {
      "image/png": "[encoded data removed]",
      "text/plain": [
       "<Figure size 432x288 with 1 Axes>"
      ]
     },
     "metadata": {
      "needs_background": "light"
     },
     "output_type": "display_data"
    }
   ],
   "source": [
    "plt.plot(lambdas, coefs)\n",
    "plt.xlim(0,0.003)\n",
    "plt.ylim(-0.050,) # good lambda seems 0.00075"
   ]
  },
  {
   "cell_type": "markdown",
   "metadata": {},
   "source": [
    "# Modelling"
   ]
  },
  {
   "cell_type": "code",
   "execution_count": 21,
   "metadata": {},
   "outputs": [
    {
     "name": "stdout",
     "output_type": "stream",
     "text": [
      "[0.92693101 0.87753374 0.90925995 0.91984356 0.79776858]\n"
     ]
    }
   ],
   "source": [
    "clf = Pipeline(steps = [('preprocessor', preprocessor),\n",
    "                          ('classifier',Lasso(alpha=0.0004, max_iter=50000))])\n",
    "print(cross_val_score(clf, reduced_train, final_train_y, cv=5))  \n",
    "\n",
    "train_fit = clf.fit(reduced_train, final_train_y)\n",
    "predictions = clf.predict(new_test) \n",
    "# [0.92534889 0.87682961 0.91042009 0.91388471 0.78388089] 0.00075\n",
    "# [0.92600298 0.87685387 0.91081945 0.9147973  0.78533819] 0.0007\n",
    "# [0.92660061 0.87692102 0.91110397 0.91565979 0.78683613] 0.00065\n",
    "# [0.92852987 0.87390091 0.90821394 0.92056336 0.79420127] 0.0003\n",
    "# [0.92872172 0.87587015 0.90979528 0.91936181 0.79263166] 0.0004"
   ]
  },
  {
   "cell_type": "code",
   "execution_count": 22,
   "metadata": {},
   "outputs": [
    {
     "data": {
      "text/plain": [
       "[('cat_std', Pipeline(memory=None,\n",
       "       steps=[('imputer', SimpleImputer(copy=True, fill_value='None', missing_values=nan,\n",
       "         strategy='constant', verbose=0)), ('onehot', OneHotEncoder(categorical_features=None, categories=None,\n",
       "         dtype=<class 'numpy.float64'>, handle_unknown='ignore',\n",
       "         n_values=None, sparse=True))]), ['BsmtCond',\n",
       "   'BsmtExposure',\n",
       "   'BsmtFinType1',\n",
       "   'BsmtFinType2',\n",
       "   'BsmtQual',\n",
       "   'GarageQual',\n",
       "   'GarageCond',\n",
       "   'GarageFinish',\n",
       "   'GarageType',\n",
       "   'MasVnrType']),\n",
       " ('num_std', Pipeline(memory=None,\n",
       "       steps=[('imputer', SimpleImputer(copy=True, fill_value=0, missing_values=nan,\n",
       "         strategy='constant', verbose=0)), ('scaler', StandardScaler(copy=True, with_mean=True, with_std=True))]), ['BsmtFullBath',\n",
       "   'BsmtFinSF1',\n",
       "   'BsmtFinSF2',\n",
       "   'BsmtUnfSF',\n",
       "   'GarageArea',\n",
       "   'GarageCars',\n",
       "   'GarageYrBlt',\n",
       "   'MasVnrArea',\n",
       "   'TotalBsmtSF']),\n",
       " ('num', Pipeline(memory=None,\n",
       "       steps=[('imputer', SimpleImputer(copy=True, fill_value=None, missing_values=nan,\n",
       "         strategy='median', verbose=0)), ('scaler', StandardScaler(copy=True, with_mean=True, with_std=True))]), ['GarageCars',\n",
       "   'YrSold',\n",
       "   '3SsnPorch',\n",
       "   'ScreenPorch',\n",
       "   'WoodDeckSF',\n",
       "   'TotalBsmtSF',\n",
       "   'BedroomAbvGr',\n",
       "   'MoSold',\n",
       "   'GrLivArea',\n",
       "   'OverallQual',\n",
       "   'BsmtFinSF2',\n",
       "   'EnclosedPorch',\n",
       "   'MasVnrArea',\n",
       "   'KitchenAbvGr',\n",
       "   'TotRmsAbvGrd',\n",
       "   'YearBuilt',\n",
       "   '1stFlrSF',\n",
       "   'BsmtHalfBath',\n",
       "   'GarageArea',\n",
       "   'FullBath',\n",
       "   'BsmtUnfSF',\n",
       "   'BsmtFullBath',\n",
       "   'Fireplaces',\n",
       "   'HalfBath',\n",
       "   'YearRemodAdd',\n",
       "   'LowQualFinSF',\n",
       "   'MSSubClass',\n",
       "   'OverallCond',\n",
       "   '2ndFlrSF',\n",
       "   'OpenPorchSF',\n",
       "   'MiscVal',\n",
       "   'PoolArea',\n",
       "   'GarageYrBlt',\n",
       "   'LotArea',\n",
       "   'BsmtFinSF1']),\n",
       " ('cat', Pipeline(memory=None,\n",
       "       steps=[('imputer', SimpleImputer(copy=True, fill_value=None, missing_values=nan,\n",
       "         strategy='most_frequent', verbose=0)), ('onehot', OneHotEncoder(categorical_features=None, categories=None,\n",
       "         dtype=<class 'numpy.float64'>, handle_unknown='ignore',\n",
       "         n_values=None, sparse=True))]), ['Heating',\n",
       "   'PavedDrive',\n",
       "   'Exterior2nd',\n",
       "   'SaleCondition',\n",
       "   'LandSlope',\n",
       "   'LandContour',\n",
       "   'Condition1',\n",
       "   'ExterQual',\n",
       "   'BldgType',\n",
       "   'Foundation',\n",
       "   'LotConfig',\n",
       "   'HeatingQC',\n",
       "   'ExterCond',\n",
       "   'LotShape',\n",
       "   'Exterior1st',\n",
       "   'MSZoning',\n",
       "   'CentralAir',\n",
       "   'Functional',\n",
       "   'Neighborhood',\n",
       "   'HouseStyle',\n",
       "   'Electrical',\n",
       "   'RoofMatl',\n",
       "   'SaleType',\n",
       "   'KitchenQual',\n",
       "   'Street',\n",
       "   'RoofStyle'])]"
      ]
     },
     "execution_count": 22,
     "metadata": {},
     "output_type": "execute_result"
    }
   ],
   "source": [
    "clf.named_steps['preprocessor'].transformers\n",
    "#support = clf.named_steps['rfe_feature_selection'].support_\n",
    "#feature_names = np.array(train.columns) # transformed list to array\n",
    "#feature_names[support]"
   ]
  },
  {
   "cell_type": "code",
   "execution_count": 23,
   "metadata": {},
   "outputs": [],
   "source": [
    "pred_sale_price = pd.DataFrame(np.expm1(predictions), \n",
    "                               columns = ['SalePrice'], index = None)\n",
    "pred_sale_price['Id'] = test['Id']\n",
    "pred_sale_price['SalePrice'] = ((pred_sale_price['SalePrice'] + 250)/ 500).astype(int) *500\n",
    "\n",
    "cols = pred_sale_price.columns.tolist()\n",
    "cols = cols[-1:] + cols[:-1]\n",
    "pred_sale_price = pred_sale_price[cols]\n"
   ]
  },
  {
   "cell_type": "code",
   "execution_count": 24,
   "metadata": {},
   "outputs": [],
   "source": [
    "pred_sale_price.to_csv('predictions.csv', index = False)"
   ]
  },
  {
   "cell_type": "code",
   "execution_count": null,
   "metadata": {},
   "outputs": [],
   "source": []
  }
 ],
 "metadata": {
  "kernelspec": {
   "display_name": "Python 3",
   "language": "python",
   "name": "python3"
  },
  "language_info": {
   "codemirror_mode": {
    "name": "ipython",
    "version": 3
   },
   "file_extension": ".py",
   "mimetype": "text/x-python",
   "name": "python",
   "nbconvert_exporter": "python",
   "pygments_lexer": "ipython3",
   "version": "3.7.0"
  }
 },
 "nbformat": 4,
 "nbformat_minor": 2
}
